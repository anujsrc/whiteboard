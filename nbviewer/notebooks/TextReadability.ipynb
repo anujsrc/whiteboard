{
 "cells": [
  {
   "cell_type": "markdown",
   "metadata": {},
   "source": [
    "## Importing Libraries"
   ]
  },
  {
   "cell_type": "code",
   "execution_count": 68,
   "metadata": {
    "collapsed": false
   },
   "outputs": [
    {
     "name": "stdout",
     "output_type": "stream",
     "text": [
      "Populating the interactive namespace from numpy and matplotlib\n"
     ]
    }
   ],
   "source": [
    "import sys\n",
    "import time\n",
    "import glob\n",
    "import codecs\n",
    "import matplotlib.pyplot as plt\n",
    "import requests\n",
    "%pylab inline"
   ]
  },
  {
   "cell_type": "markdown",
   "metadata": {},
   "source": [
    "## Reading Corpus"
   ]
  },
  {
   "cell_type": "code",
   "execution_count": 69,
   "metadata": {
    "collapsed": false
   },
   "outputs": [
    {
     "name": "stdout",
     "output_type": "stream",
     "text": [
      "Available Books: \n",
      "\n",
      "Book 1 - The Philosopher's Stone\n",
      "Book 2 - The Chamber of Secrets\n",
      "Book 3 - The Prisoner of Azkaban\n",
      "Book 4 - The Goblet of Fire\n",
      "Book 5 - The Order of the Phoenix\n",
      "Book 6 - The Half Blood Prince\n",
      "Book 7 - The Deathly Hallows\n"
     ]
    }
   ],
   "source": [
    "# Books present\n",
    "books = sorted(glob.glob(\"data/harrypotter/*.txt\"))\n",
    "\n",
    "print \"Available Books: \\n\"\n",
    "for i in books:\n",
    "    print i.split(\"/\")[2].split(\"_\")[0]\n",
    "\n",
    "# Read data from all books to single corpus variable\n",
    "temp = \"\"\n",
    "t = \"\"\n",
    "chars = []\n",
    "book_raw = []\n",
    "for book in books:\n",
    "    with codecs.open(book, \"rb\", \"utf-8\") as infile:\n",
    "        temp = infile.read()\n",
    "        book_raw.append(temp)"
   ]
  },
  {
   "cell_type": "markdown",
   "metadata": {},
   "source": [
    "## Calling the API"
   ]
  },
  {
   "cell_type": "code",
   "execution_count": 70,
   "metadata": {
    "collapsed": true
   },
   "outputs": [],
   "source": [
    "def get_readability_score(data):\n",
    "    \"\"\"\n",
    "    Sends a POST request to FORMCEPT's Text Redability API\n",
    "    \"\"\"\n",
    "    endpoint = 'http://<fchost>:<fcport>/fc/readability'\n",
    "    text = data\n",
    "    payload = {'txt_readability': text}\n",
    "    headers = {'Content-type': 'application/json', 'Accept': 'application/json'}\n",
    "    r = requests.post(endpoint, json = payload, headers = headers)\n",
    "    return r.json()['response']"
   ]
  },
  {
   "cell_type": "code",
   "execution_count": 71,
   "metadata": {
    "collapsed": false
   },
   "outputs": [],
   "source": [
    "# get readability score for each of the 7 parts of the Harry Potter Book\n",
    "readability_scores = []\n",
    "for book in range(len(book_raw)):\n",
    "    readability_scores.append(get_readability_score(book_raw[book].strip().lower().replace(\"\\n\",\" \").replace(\"\\t\",\" \").replace(\"\\r\", \" \")))"
   ]
  },
  {
   "cell_type": "markdown",
   "metadata": {},
   "source": [
    "## Plotting Bookwise Readability Score\n",
    "\n",
    "1. <b>Less</b> the score the <b>more readabile</b> the text. \n",
    "2. <b>More</b> the score the <b>difficult</b> the text."
   ]
  },
  {
   "cell_type": "code",
   "execution_count": 72,
   "metadata": {
    "collapsed": false
   },
   "outputs": [
    {
     "data": {
      "text/plain": [
       "<Container object of 7 artists>"
      ]
     },
     "execution_count": 72,
     "metadata": {},
     "output_type": "execute_result"
    },
    {
     "data": {
      "image/png": "[encoded data removed]",
      "text/plain": [
       "<matplotlib.figure.Figure at 0x7ffb8d3df290>"
      ]
     },
     "metadata": {},
     "output_type": "display_data"
    }
   ],
   "source": [
    "y = readability_scores\n",
    "N = len(y)\n",
    "x = [i+1 for i in range(N)]\n",
    "width = 1/1.5\n",
    "\n",
    "mini = min(readability_scores)\n",
    "maxi = max(readability_scores)\n",
    "\n",
    "pylab.title(\"Readability Comparison of text\")\n",
    "pylab.xlabel(\"Book\")\n",
    "pylab.ylabel(\"Readability Score\")\n",
    "\n",
    "colors = [\"yellow\"]*7\n",
    "colors[readability_scores.index(mini)] = \"green\"\n",
    "colors[readability_scores.index(maxi)] = \"red\"\n",
    "plt.bar(x, y, width, align='center', color=colors)"
   ]
  }
 ],
 "metadata": {
  "kernelspec": {
   "display_name": "Python 2",
   "language": "python",
   "name": "python2"
  },
  "language_info": {
   "codemirror_mode": {
    "name": "ipython",
    "version": 2
   },
   "file_extension": ".py",
   "mimetype": "text/x-python",
   "name": "python",
   "nbconvert_exporter": "python",
   "pygments_lexer": "ipython2",
   "version": "2.7.12"
  }
 },
 "nbformat": 4,
 "nbformat_minor": 1
}
